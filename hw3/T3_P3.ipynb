{
  "nbformat": 4,
  "nbformat_minor": 0,
  "metadata": {
    "accelerator": "GPU",
    "colab": {
      "name": "T3_P3.ipynb",
      "provenance": [],
      "collapsed_sections": []
    },
    "kernelspec": {
      "display_name": "Python 3",
      "language": "python",
      "name": "python3"
    },
    "language_info": {
      "codemirror_mode": {
        "name": "ipython",
        "version": 3
      },
      "file_extension": ".py",
      "mimetype": "text/x-python",
      "name": "python",
      "nbconvert_exporter": "python",
      "pygments_lexer": "ipython3",
      "version": "3.6.2"
    },
    "widgets": {
      "application/vnd.jupyter.widget-state+json": {
        "eb6d868cfea4427aa8abe55d4c7eba23": {
          "model_module": "@jupyter-widgets/controls",
          "model_name": "HBoxModel",
          "state": {
            "_view_name": "HBoxView",
            "_dom_classes": [],
            "_model_name": "HBoxModel",
            "_view_module": "@jupyter-widgets/controls",
            "_model_module_version": "1.5.0",
            "_view_count": null,
            "_view_module_version": "1.5.0",
            "box_style": "",
            "layout": "IPY_MODEL_e584b2ef9d0d46a6becb350901d6b660",
            "_model_module": "@jupyter-widgets/controls",
            "children": [
              "IPY_MODEL_c86df50e15604515957fb2e14cafeb0b",
              "IPY_MODEL_43c8b87ffbfb4231855696508a2f364a"
            ]
          }
        },
        "e584b2ef9d0d46a6becb350901d6b660": {
          "model_module": "@jupyter-widgets/base",
          "model_name": "LayoutModel",
          "state": {
            "_view_name": "LayoutView",
            "grid_template_rows": null,
            "right": null,
            "justify_content": null,
            "_view_module": "@jupyter-widgets/base",
            "overflow": null,
            "_model_module_version": "1.2.0",
            "_view_count": null,
            "flex_flow": null,
            "width": null,
            "min_width": null,
            "border": null,
            "align_items": null,
            "bottom": null,
            "_model_module": "@jupyter-widgets/base",
            "top": null,
            "grid_column": null,
            "overflow_y": null,
            "overflow_x": null,
            "grid_auto_flow": null,
            "grid_area": null,
            "grid_template_columns": null,
            "flex": null,
            "_model_name": "LayoutModel",
            "justify_items": null,
            "grid_row": null,
            "max_height": null,
            "align_content": null,
            "visibility": null,
            "align_self": null,
            "height": null,
            "min_height": null,
            "padding": null,
            "grid_auto_rows": null,
            "grid_gap": null,
            "max_width": null,
            "order": null,
            "_view_module_version": "1.2.0",
            "grid_template_areas": null,
            "object_position": null,
            "object_fit": null,
            "grid_auto_columns": null,
            "margin": null,
            "display": null,
            "left": null
          }
        },
        "c86df50e15604515957fb2e14cafeb0b": {
          "model_module": "@jupyter-widgets/controls",
          "model_name": "FloatProgressModel",
          "state": {
            "_view_name": "ProgressView",
            "style": "IPY_MODEL_891acc624d844afb8366e111cbe4b057",
            "_dom_classes": [],
            "description": "",
            "_model_name": "FloatProgressModel",
            "bar_style": "info",
            "max": 1,
            "_view_module": "@jupyter-widgets/controls",
            "_model_module_version": "1.5.0",
            "value": 1,
            "_view_count": null,
            "_view_module_version": "1.5.0",
            "orientation": "horizontal",
            "min": 0,
            "description_tooltip": null,
            "_model_module": "@jupyter-widgets/controls",
            "layout": "IPY_MODEL_76140250c3b04f449f76d19b5c143636"
          }
        },
        "43c8b87ffbfb4231855696508a2f364a": {
          "model_module": "@jupyter-widgets/controls",
          "model_name": "HTMLModel",
          "state": {
            "_view_name": "HTMLView",
            "style": "IPY_MODEL_627815abe4da4e878f2450d6729f3c8d",
            "_dom_classes": [],
            "description": "",
            "_model_name": "HTMLModel",
            "placeholder": "​",
            "_view_module": "@jupyter-widgets/controls",
            "_model_module_version": "1.5.0",
            "value": " 170500096/? [00:30&lt;00:00, 17590253.21it/s]",
            "_view_count": null,
            "_view_module_version": "1.5.0",
            "description_tooltip": null,
            "_model_module": "@jupyter-widgets/controls",
            "layout": "IPY_MODEL_e39792d6e15342ff9f07ac9bdbc6d03c"
          }
        },
        "891acc624d844afb8366e111cbe4b057": {
          "model_module": "@jupyter-widgets/controls",
          "model_name": "ProgressStyleModel",
          "state": {
            "_view_name": "StyleView",
            "_model_name": "ProgressStyleModel",
            "description_width": "initial",
            "_view_module": "@jupyter-widgets/base",
            "_model_module_version": "1.5.0",
            "_view_count": null,
            "_view_module_version": "1.2.0",
            "bar_color": null,
            "_model_module": "@jupyter-widgets/controls"
          }
        },
        "76140250c3b04f449f76d19b5c143636": {
          "model_module": "@jupyter-widgets/base",
          "model_name": "LayoutModel",
          "state": {
            "_view_name": "LayoutView",
            "grid_template_rows": null,
            "right": null,
            "justify_content": null,
            "_view_module": "@jupyter-widgets/base",
            "overflow": null,
            "_model_module_version": "1.2.0",
            "_view_count": null,
            "flex_flow": null,
            "width": null,
            "min_width": null,
            "border": null,
            "align_items": null,
            "bottom": null,
            "_model_module": "@jupyter-widgets/base",
            "top": null,
            "grid_column": null,
            "overflow_y": null,
            "overflow_x": null,
            "grid_auto_flow": null,
            "grid_area": null,
            "grid_template_columns": null,
            "flex": null,
            "_model_name": "LayoutModel",
            "justify_items": null,
            "grid_row": null,
            "max_height": null,
            "align_content": null,
            "visibility": null,
            "align_self": null,
            "height": null,
            "min_height": null,
            "padding": null,
            "grid_auto_rows": null,
            "grid_gap": null,
            "max_width": null,
            "order": null,
            "_view_module_version": "1.2.0",
            "grid_template_areas": null,
            "object_position": null,
            "object_fit": null,
            "grid_auto_columns": null,
            "margin": null,
            "display": null,
            "left": null
          }
        },
        "627815abe4da4e878f2450d6729f3c8d": {
          "model_module": "@jupyter-widgets/controls",
          "model_name": "DescriptionStyleModel",
          "state": {
            "_view_name": "StyleView",
            "_model_name": "DescriptionStyleModel",
            "description_width": "",
            "_view_module": "@jupyter-widgets/base",
            "_model_module_version": "1.5.0",
            "_view_count": null,
            "_view_module_version": "1.2.0",
            "_model_module": "@jupyter-widgets/controls"
          }
        },
        "e39792d6e15342ff9f07ac9bdbc6d03c": {
          "model_module": "@jupyter-widgets/base",
          "model_name": "LayoutModel",
          "state": {
            "_view_name": "LayoutView",
            "grid_template_rows": null,
            "right": null,
            "justify_content": null,
            "_view_module": "@jupyter-widgets/base",
            "overflow": null,
            "_model_module_version": "1.2.0",
            "_view_count": null,
            "flex_flow": null,
            "width": null,
            "min_width": null,
            "border": null,
            "align_items": null,
            "bottom": null,
            "_model_module": "@jupyter-widgets/base",
            "top": null,
            "grid_column": null,
            "overflow_y": null,
            "overflow_x": null,
            "grid_auto_flow": null,
            "grid_area": null,
            "grid_template_columns": null,
            "flex": null,
            "_model_name": "LayoutModel",
            "justify_items": null,
            "grid_row": null,
            "max_height": null,
            "align_content": null,
            "visibility": null,
            "align_self": null,
            "height": null,
            "min_height": null,
            "padding": null,
            "grid_auto_rows": null,
            "grid_gap": null,
            "max_width": null,
            "order": null,
            "_view_module_version": "1.2.0",
            "grid_template_areas": null,
            "object_position": null,
            "object_fit": null,
            "grid_auto_columns": null,
            "margin": null,
            "display": null,
            "left": null
          }
        }
      }
    }
  },
  "cells": [
    {
      "cell_type": "markdown",
      "metadata": {
        "id": "T7HLdN6RHIoB"
      },
      "source": [
        "## This notebook contains a **tutorial** followed by **Problem 3 of Homework 3**, both of which are based on PyTorch."
      ]
    },
    {
      "cell_type": "markdown",
      "metadata": {
        "id": "2biosIind-6h"
      },
      "source": [
        "### To complete this problem, please upload this .ipynb (Notebook) file **to Google Colab.** (You'll need to use Colab because it supports GPU and has all the necessary packages pre-installed.) When you're finished, go to \"File -> Download .ipynb\" and submit your .ipynb notebook as a supplemental file.\n",
        "\n",
        "### This notebook has instructions for several homework problems.  ***You must write your answers to these problems in your PDF submission file.*** Your Colab notebook will not be graded, so please make sure you transfer all deliverables (including plots and written work) to your PDF.  "
      ]
    },
    {
      "cell_type": "code",
      "metadata": {
        "collapsed": true,
        "id": "LTOxErZWluNP"
      },
      "source": [
        "import torch\n",
        "import numpy as np\n",
        "import math"
      ],
      "execution_count": null,
      "outputs": []
    },
    {
      "cell_type": "markdown",
      "metadata": {
        "id": "Op_QDEYGhCqL"
      },
      "source": [
        "So far in CS 181, we've been using numpy and scikit-learn to write ML code. In this tutorial, we'll introduce you to **PyTorch**, the ML library of choice for industry and academia.\n",
        "\n",
        "**Before working through this notebook, make sure that the runtime type is set to GPU.** Follow Edit -> Notebook settings -> and select GPU as the hardware accelerator."
      ]
    },
    {
      "cell_type": "markdown",
      "metadata": {
        "id": "K99RHUFel7yJ"
      },
      "source": [
        "# Tutorial: Getting to Know PyTorch - Key Concepts\n",
        "\n",
        "### Why PyTorch?\n",
        "\n",
        "PyTorch...\n",
        "*   Provides flexible building blocks for building customizable models, including neural network layers, activation functions, and optimization algorithms\n",
        "*   Can automatically compute gradients, making backpropagation a breeze!\n",
        "*   Can accelerate computation on GPUs"
      ]
    },
    {
      "cell_type": "markdown",
      "metadata": {
        "id": "1OqXiibkjd8b"
      },
      "source": [
        "## Tensors\n",
        "\n",
        "Tensors are the basic units of storage and computation in PyTorch. They are very similar to NumPy arrays, and follow the same syntax for indexing and for most arithmetic operations.\n"
      ]
    },
    {
      "cell_type": "code",
      "metadata": {
        "colab": {
          "base_uri": "https://localhost:8080/"
        },
        "id": "VQ6v6uTCjcqm",
        "outputId": "09f0b05d-13a7-49c1-a27a-87b508f38d46"
      },
      "source": [
        "# Basic tensor operations\n",
        "x_tensor = torch.tensor([1, 2, 3, 4, 5])\n",
        "y_tensor = torch.ones((2, 5))\n",
        "prod = x_tensor * y_tensor[1,:]\n",
        "print(prod, prod.shape) # Use .shape to view shape just as in NumPy"
      ],
      "execution_count": null,
      "outputs": [
        {
          "output_type": "stream",
          "text": [
            "tensor([1., 2., 3., 4., 5.]) torch.Size([5])\n"
          ],
          "name": "stdout"
        }
      ]
    },
    {
      "cell_type": "code",
      "metadata": {
        "collapsed": true,
        "id": "t1POkPN7oHDl"
      },
      "source": [
        "# Easy conversion between PyTorch and Numpy\n",
        "x_numpy = np.array([1, 2, 3, 4, 5])\n",
        "assert (x_tensor.numpy() == x_numpy).all()\n",
        "assert (x_tensor == torch.from_numpy(x_numpy)).all()"
      ],
      "execution_count": null,
      "outputs": []
    },
    {
      "cell_type": "markdown",
      "metadata": {
        "id": "s0ovXbiFmMA_"
      },
      "source": [
        "What makes tensors **different** from NumPy arrays is:\n",
        "\n",
        "1. They support GPU acceleration.\n",
        "2. They contain additional information (accessed as attributes, which we will see later) which facilitate the easy building and training of neural networks, via **computation graphs** and **gradients**."
      ]
    },
    {
      "cell_type": "markdown",
      "metadata": {
        "id": "At9t1bdM7vp_"
      },
      "source": [
        "## A motivating example\n",
        "\n",
        "To see the advantages of PyTorch in action, let's first take a look at how one might train a simple model using only NumPy:"
      ]
    },
    {
      "cell_type": "code",
      "metadata": {
        "colab": {
          "base_uri": "https://localhost:8080/"
        },
        "id": "jJo7qe3_77c_",
        "outputId": "4f864025-37f8-47bf-8b06-08806b0e4731"
      },
      "source": [
        "import numpy as np\n",
        "import math\n",
        "\n",
        "# Create 2000 random input and output data points\n",
        "x = np.linspace(-math.pi, math.pi, 2000)\n",
        "y = np.sin(x)\n",
        "\n",
        "# Step 0 - Initialization: Initialize model parameters (randomly, in this example)\n",
        "a = np.random.randn()\n",
        "b = np.random.randn()\n",
        "c = np.random.randn()\n",
        "d = np.random.randn()\n",
        "\n",
        "learning_rate = 1e-6\n",
        "for t in range(2000):\n",
        "    # Step 1 - Forward Pass: compute predicted y according to the following model:\n",
        "    # y = a + b x + c x^2 + d x^3\n",
        "    y_pred = a + b * x + c * x ** 2 + d * x ** 3\n",
        "\n",
        "    # Step 2 - Compute Loss (MSE in this example)\n",
        "    loss = np.square(y_pred - y).sum() # Sum across 2000 training points\n",
        "    if t % 100 == 0:\n",
        "        print(f'Epoch {t}: loss {loss}')\n",
        "\n",
        "    # Step 3 - Differentiate: Use backprop (chain rule) to compute gradients\n",
        "    # of the loss function with respect to a, b, c, d\n",
        "    grad_y_pred = 2.0 * (y_pred - y)\n",
        "    grad_a = grad_y_pred.sum() # Sum across 2000 training points\n",
        "    grad_b = (grad_y_pred * x).sum()\n",
        "    grad_c = (grad_y_pred * x ** 2).sum()\n",
        "    grad_d = (grad_y_pred * x ** 3).sum()\n",
        "\n",
        "    # Step 4 - Optimize: Update weights (vanilla GD in this example)\n",
        "    a -= learning_rate * grad_a\n",
        "    b -= learning_rate * grad_b\n",
        "    c -= learning_rate * grad_c\n",
        "    d -= learning_rate * grad_d\n",
        "\n",
        "print(f'Result: y = {a} + {b} x + {c} x^2 + {d} x^3')\n",
        "\n",
        "# From: https://pytorch.org/tutorials/beginner/pytorch_with_examples.html"
      ],
      "execution_count": null,
      "outputs": [
        {
          "output_type": "stream",
          "text": [
            "Epoch 0: loss 389940.5151390853\n",
            "Epoch 100: loss 4850.435032503943\n",
            "Epoch 200: loss 3240.426489780237\n",
            "Epoch 300: loss 2167.0118235160867\n",
            "Epoch 400: loss 1450.9913992121512\n",
            "Epoch 500: loss 973.1177837420586\n",
            "Epoch 600: loss 654.0065744971984\n",
            "Epoch 700: loss 440.78833919304674\n",
            "Epoch 800: loss 298.2367383385882\n",
            "Epoch 900: loss 202.86981754617173\n",
            "Epoch 1000: loss 139.02671589114811\n",
            "Epoch 1100: loss 96.25727532001682\n",
            "Epoch 1200: loss 67.58451681870811\n",
            "Epoch 1300: loss 48.347633415162576\n",
            "Epoch 1400: loss 35.4312090189378\n",
            "Epoch 1500: loss 26.751498496330033\n",
            "Epoch 1600: loss 20.91387083786918\n",
            "Epoch 1700: loss 16.98426990289883\n",
            "Epoch 1800: loss 14.33666086988435\n",
            "Epoch 1900: loss 12.551140868465968\n",
            "Result: y = 0.03196330538228295 + 0.8175345535422838 x + -0.005514202050141147 x^2 + -0.08775363576611588 x^3\n"
          ],
          "name": "stdout"
        }
      ]
    },
    {
      "cell_type": "markdown",
      "metadata": {
        "id": "BIfNG71OG9Jq"
      },
      "source": [
        "Each step involved in training a model is coded very explicitly in this example:\n",
        "0. Initialization: Initialize model parameters (i.e. weights)\n",
        "1. Forward Pass: Compute predictions\n",
        "2. Compute Loss\n",
        "3. Differentiate: Compute gradients via backpropagation (chain rule)\n",
        "4. Optimize: Update weights using gradients\n",
        "\n",
        "Notice how:\n",
        "- Every model parameter is stored as a variable, which contains a weight value to be continuously updated through training\n",
        "- The calculation of the gradient of the loss function with respect to the model parameters is coded explicitly and thus *model dependent*\n",
        "<!-- - The gradient of the loss function needs to be computed with respect to the model parameters explicitly using the chain rule -->\n",
        "- Each model parameter's gradient is used to update the weight value according to a particular update rule which is also explicitly implemented - in this example, standard gradient descent (GD).\n",
        "\n",
        "Steps 0 and 1 might not be so difficult using a basic package such as NumPy; however, one could imagine that steps 2 and 3 would quickly become too burdensome to implement manually for models with more parameters, both because of 1) the large number of parameters and 2) the fact that the explicit implementation of the chain rule and update rule will look different every time depending on the the model structure and optimization algorithm.\n",
        "\n",
        "This is where PyTorch's **automatic differentiation** engine, **Autograd**, is useful. As the name implies, PyTorch can take care of computing gradients and applying optimization update rules automatically under the hood, such that the code we write to invoke these two operaations will look (very nearly) the same across all models."
      ]
    },
    {
      "cell_type": "markdown",
      "metadata": {
        "id": "IcRm_01MryEd"
      },
      "source": [
        "## Computation Graphs and Autograd\n",
        "\n",
        "<!-- Old paragraphs, commented out to preserve in case we want to bring back language -->\n",
        "<!-- Autograd, PyTorch's automatic differentiation engine, is one of the best things that PyTorch has to offer when it comes to training neural networks! Recall that in order to compute gradients for weights in a neural network, you have to backpropagate errors at each node. This is computationally intensive even for a one or two layers and would be a nightmare to implement manually for very deep networks. -->\n",
        "<!-- PyTorch tensors can keep track of a *computation graph* whenever operations are performed on/between tensors. Autograd performs backprop on this computation graph, so all the steps to compute the gradient are abstracted away. To perform a gradient step update, you simply have to call built-in PyTorch functions that computes the derivative of the loss and (if you're using gradient descent) takes a step toward a gradient of zero. -->\n",
        "\n",
        "To implement automatic differentiation, PyTorch keeps track of a **computation graph** which logs every operation used to construct a certain output or mathematical expression (more on computation graphs in the [Appendix](#Appendix)). Computation graphs are created automatically whenever mathematical operations are performed using tensors as inputs. Using this graph, **Autograd** can perform backpropagation by repeated applications of the chain rule, and all of these differentiation steps are abstracted away from the user. To perform weight updates, we simply call built-in PyTorch optimizer functions which implement different update rules using the gradients computed during backpropagation.\n",
        "\n",
        "As we work through the following example, keep in mind that computation graphs in PyTorch are *implicitly* constructed when one builds mathematical expressions. That is, one will never have to write code expressly for the purpose of building such a graph; rather, the computation graph will be assembled automatically using whichever Tensors or operations are appropriately \"earmarked\" for tracking (see `requires_grad` below).\n",
        "\n",
        "Let's start with a simple example of autograd. (Original example from https://pytorch.org/tutorials/beginner/nlp/pytorch_tutorial.html.)\n"
      ]
    },
    {
      "cell_type": "code",
      "metadata": {
        "colab": {
          "base_uri": "https://localhost:8080/"
        },
        "id": "-oQ3VCa-wEnL",
        "outputId": "e6711978-4004-4fa2-9c15-9420025016a9"
      },
      "source": [
        "# Create tensors\n",
        "x = torch.randn(2, 2)\n",
        "y = torch.randn(2, 2)\n",
        "print('x:', x)\n",
        "print('y:', y)"
      ],
      "execution_count": null,
      "outputs": [
        {
          "output_type": "stream",
          "text": [
            "x: tensor([[-0.2503, -0.1301],\n",
            "        [ 0.3438,  0.8277]])\n",
            "y: tensor([[ 0.6206, -1.1387],\n",
            "        [ 0.3437,  0.0952]])\n"
          ],
          "name": "stdout"
        }
      ]
    },
    {
      "cell_type": "markdown",
      "metadata": {
        "id": "xoGuhefUwfz4"
      },
      "source": [
        "Tensors have a ```requires_grad``` field. When ```requires_grad == True``` for a certain tensor, any subsequent operations that this tensor is an input to will be incorporated into a computation graph. Autograd will then be able to automatically compute partial derivatives *with respect to this tensor*. (Derivative of what function? More on that [later](#step5).) \n",
        "\n",
        "For any tensors which are the outputs of operations tracked in the computation graph, the ```grad_fn``` attribute will indicate the operation that created the tensor, represented as a `Function` object. (It is these `Function`s which encode the computation graph DAG [Directed Acyclic Graph].)\n",
        "\n",
        "**Important: If some starting tensors have requires_grad = True, then every tensor resulting from operations of those starting tensors will also have requires_grad = True.**\n",
        "\n"
      ]
    },
    {
      "cell_type": "code",
      "metadata": {
        "colab": {
          "base_uri": "https://localhost:8080/"
        },
        "id": "tNy9_NsXwXPp",
        "outputId": "47329d61-01a5-4444-ea90-cff1d9472547"
      },
      "source": [
        "# By default, user created Tensors have ``requires_grad=False``\n",
        "print('x and y requires_grad:', x.requires_grad, y.requires_grad)\n",
        "z = x + y\n",
        "# So you can't backprop through z\n",
        "print('z grad_fn:', z.grad_fn)"
      ],
      "execution_count": null,
      "outputs": [
        {
          "output_type": "stream",
          "text": [
            "x and y requires_grad: False False\n",
            "z grad_fn: None\n"
          ],
          "name": "stdout"
        }
      ]
    },
    {
      "cell_type": "code",
      "metadata": {
        "id": "Xnb3o2ayxFyX",
        "colab": {
          "base_uri": "https://localhost:8080/"
        },
        "outputId": "bc9e63a7-24d2-4914-90cf-83ad4d492e15"
      },
      "source": [
        "# ``.requires_grad_( ... )`` changes an existing Tensor's ``requires_grad`` flag in-place.\n",
        "# The input flag defaults to ``True`` if not given.\n",
        "x = x.requires_grad_()\n",
        "y = y.requires_grad_()\n",
        "# z contains enough information to compute gradients, as we saw above\n",
        "z = x + y\n",
        "print('z grad_fn:', z.grad_fn)\n",
        "# If any input to an operation has ``requires_grad=True``, so will the output\n",
        "print('z requires_grad:', z.requires_grad)"
      ],
      "execution_count": null,
      "outputs": [
        {
          "output_type": "stream",
          "text": [
            "z grad_fn: <AddBackward0 object at 0x7f0a9d3f4f50>\n",
            "z requires_grad: True\n"
          ],
          "name": "stdout"
        }
      ]
    },
    {
      "cell_type": "markdown",
      "metadata": {
        "id": "jjqGhfJ8yZJs"
      },
      "source": [
        "We can also detach a tensor from its computation graph:"
      ]
    },
    {
      "cell_type": "code",
      "metadata": {
        "id": "C0bYoOKBwKm0",
        "colab": {
          "base_uri": "https://localhost:8080/"
        },
        "outputId": "b8f4846f-b593-4f2a-a937-dc8649abf015"
      },
      "source": [
        "# Now z has the computation history that relates itself to x and y\n",
        "# Can we just take its values, and **detach** it from its history?\n",
        "new_z = z.detach()\n",
        "\n",
        "# ... does new_z have information to backprop to x and y?\n",
        "# NO!\n",
        "print('new_z grad_fn:', new_z.grad_fn)\n",
        "# And how could it? ``z.detach()`` returns a tensor that shares the same storage as ``z``, but with the computation history forgotten.\n",
        "# It doesn't know anything about how it was computed.\n",
        "# In essence, we have broken the Tensor away from its past history"
      ],
      "execution_count": null,
      "outputs": [
        {
          "output_type": "stream",
          "text": [
            "new_z grad_fn: None\n"
          ],
          "name": "stdout"
        }
      ]
    },
    {
      "cell_type": "markdown",
      "metadata": {
        "id": "Xe2dUCuuTpo5"
      },
      "source": [
        "Now that we've been introduced to `requires_grad`, `grad_fn` and the computation graph....\n",
        "\n",
        "#### Question: Where should I actually set requires_grad to make everything work?\n",
        "#### Short Answer: In any tensors which represent model parameters or weights.\n",
        "\n",
        "Long Answer:\n",
        "\n",
        "- If you are initializing a parameter(s)/weight(s) by creating an individual tensor(s) manually, you have to set its `requires_grad = True` argument. \n",
        "- If you are initializing a parameter(s)/weight(s) by using built-in PyTorch methods from packages such as nn.Layer and nn.Parameter, the internally initialized tensors should already have `requires_grad` set to `True`.\n"
      ]
    },
    {
      "cell_type": "markdown",
      "metadata": {
        "id": "zIFDbUwUrvCK"
      },
      "source": [
        "## GPU Acceleration\n",
        "\n",
        "GPUs are built for parallel processing — they can handle thousands of operations at the same time — which makes them great for computationally-intensive neural nets."
      ]
    },
    {
      "cell_type": "code",
      "metadata": {
        "collapsed": true,
        "id": "7QdobpsapbDV"
      },
      "source": [
        "# To run tensor operations on GPU in Colab, go to Edit -> Notebook settings -> and select GPU as the hardware accelerator.\n",
        "# If GPU is enabled, the following assertion should pass.\n",
        "assert torch.cuda.is_available()"
      ],
      "execution_count": null,
      "outputs": []
    },
    {
      "cell_type": "code",
      "metadata": {
        "id": "djVoc6o0pqIn",
        "colab": {
          "base_uri": "https://localhost:8080/"
        },
        "outputId": "a35604b9-62a7-43d1-f2f4-fbae54cc1655"
      },
      "source": [
        "# When creating a tensor, set its device to use CUDA (a GPU parallel computing platform), as shown below.\n",
        "# What this means is that we are telling PyTorch to physically initialize the relevant \n",
        "# variable in GPU memory.\n",
        "device = torch.device('cuda:0' if torch.cuda.is_available() else 'cpu')\n",
        "x = torch.rand(5, 5, device=device)\n",
        "y = torch.rand(5, 5, device=device)\n",
        "x * y"
      ],
      "execution_count": null,
      "outputs": [
        {
          "output_type": "execute_result",
          "data": {
            "text/plain": [
              "tensor([[0.3939, 0.0592, 0.2846, 0.4380, 0.0383],\n",
              "        [0.1393, 0.1694, 0.0173, 0.0828, 0.0750],\n",
              "        [0.0210, 0.3157, 0.4068, 0.0165, 0.0780],\n",
              "        [0.0348, 0.5195, 0.0217, 0.0672, 0.0683],\n",
              "        [0.0100, 0.1346, 0.3886, 0.0737, 0.2651]], device='cuda:0')"
            ]
          },
          "metadata": {
            "tags": []
          },
          "execution_count": 28
        }
      ]
    },
    {
      "cell_type": "markdown",
      "metadata": {
        "id": "bTYacvPiDex5"
      },
      "source": [
        "## Defining a Model\n",
        "\n",
        "* The ```nn``` package defines basic neural network layers (or Modules, in PyTorch-speak) as well as common loss functions. Modules take a tensor as input, apply some computation/function to it, and then output the new tensor. \n",
        "\n",
        "* The ```optim``` package defines common optimization algorithms such as Adam, RMSProp, and AdaGrad. These algorithms are all variations of stochastic (randomized) gradient descent, and they may differ in terms of how the gradient steps are taken and how the learning rate adapts over epochs. (More details here: https://pytorch.org/docs/stable/optim.html.)\n",
        "\n",
        "### Example: Cubic Model\n",
        "Let's say we want to predict y's modeled as ```ax + bx^2 + cx^3```, and our goal is to learn the weights ```a```, ```b```, and ```c```. (Original example from https://pytorch.org/tutorials/beginner/pytorch_with_examples.html#id21.) "
      ]
    },
    {
      "cell_type": "markdown",
      "metadata": {
        "id": "ms74sAOfKw1x"
      },
      "source": [
        "### Step 1: Generate Data"
      ]
    },
    {
      "cell_type": "code",
      "metadata": {
        "id": "Nb9Qvif0KOmh",
        "colab": {
          "base_uri": "https://localhost:8080/"
        },
        "outputId": "03adac18-73a9-4909-9cbe-59d8d0646d91"
      },
      "source": [
        "# Create Tensors to hold input and outputs.\n",
        "x = torch.linspace(-math.pi, math.pi, 2000)\n",
        "y = torch.sin(x)\n",
        "\n",
        "# Prepare the input tensor (x, x^2, x^3).\n",
        "p = torch.tensor([1, 2, 3])\n",
        "xx = x.unsqueeze(-1).pow(p) \n",
        "print(xx.shape)\n",
        "# Unsqueeze inserts a dimension of size one at the specified location; the tensor\n",
        "# is reshaped to (2000, 1). Since p is a tensor, pow is applied according to\n",
        "# broadcasting rules; xx has a final shape of (2000, 3). See documentation for \n",
        "# more on broadcasting; PyTorch supports NumPy broadcasting semantics."
      ],
      "execution_count": null,
      "outputs": [
        {
          "output_type": "stream",
          "text": [
            "torch.Size([2000, 3])\n"
          ],
          "name": "stdout"
        }
      ]
    },
    {
      "cell_type": "markdown",
      "metadata": {
        "id": "lZrswir2K0fp"
      },
      "source": [
        "<a name=\"step2\"></a>\n",
        "\n",
        "### Step 2: Define Model (using nn package)"
      ]
    },
    {
      "cell_type": "code",
      "metadata": {
        "collapsed": true,
        "id": "soqgPNLtK5mG"
      },
      "source": [
        "# Use the nn package to define our model as a sequence of layers.\n",
        "# nn.Sequential is a Module which contains other Modules, and applies them in sequence to produce its output.\n",
        "# nn.Linear computes the 3 input features (x, x^2, and x^3) into 1 output feature using a linear function,\n",
        "# holding internal tensors for its weight and bias.\n",
        "# nn.Flatten flattens the output of the linear layer to a 1D tensor to match the shape of y.\n",
        "# In this case, the first dim it flattens is at index 0, and the last dim it flattens is at index 1.\n",
        "\n",
        "model = torch.nn.Sequential(\n",
        "    torch.nn.Linear(3, 1),\n",
        "    torch.nn.Flatten(0, 1)\n",
        ")"
      ],
      "execution_count": null,
      "outputs": []
    },
    {
      "cell_type": "markdown",
      "metadata": {
        "id": "LE6UFoGcMrbE"
      },
      "source": [
        "### Step 3: Define Loss Function (using nn package)"
      ]
    },
    {
      "cell_type": "code",
      "metadata": {
        "collapsed": true,
        "id": "AwHrUXgPMqfY"
      },
      "source": [
        "# In this case, we will use Mean Squared Error. \n",
        "# You can either implement loss functions manually, or\n",
        "# you can use PyTorch's implementations of commonly-used loss functions.\n",
        "loss_fn = torch.nn.MSELoss(reduction='sum')"
      ],
      "execution_count": null,
      "outputs": []
    },
    {
      "cell_type": "markdown",
      "metadata": {
        "id": "KAEuLYyAM1UD"
      },
      "source": [
        "### Step 4: Define Optimizer (using optim package)\n",
        "\n",
        "Use the optim package to define an Optimizer that will update the weights of the model for us. Here we will use RMSprop; the optim package contains many other optimization algorithms. The first argument to the RMSprop constructor tells the optimizer which Tensors it should update.\n",
        "\n",
        "In general, what distinguishes different optimizers is the way that they use gradients to define an update rule or scheme for their model weights. It follows then that any optimizer will always need the weights to be updated, and their corresponding gradients. In PyTorch, both of these quantities are stored together under model parameter variables. In particular, if `var` is a model weight, `var.grad` will contain a gradient with respect to `var` after backpropagation is performed. More in the next code cell."
      ]
    },
    {
      "cell_type": "code",
      "metadata": {
        "collapsed": true,
        "id": "MdSCSU5nM4bG"
      },
      "source": [
        "learning_rate = 1e-3\n",
        "optimizer = torch.optim.RMSprop(model.parameters(), lr=learning_rate)"
      ],
      "execution_count": null,
      "outputs": []
    },
    {
      "cell_type": "markdown",
      "metadata": {
        "id": "bwyFsv2nM-5K"
      },
      "source": [
        "<a name=\"step5\"></a>\n",
        "\n",
        "### Step 5: Train the Model\n",
        "\n",
        "Every time you train a model, be sure to include these 3 short but important lines that do much of the heavy lifting for you!\n",
        "\n",
        "1.   `optimizer.zero_grad()`: Zeroes out gradients from previous iterations. Otherwise, over the epochs, gradients will accumulate (sum) in `parameter.grad` of each `parameter` which was passed to the optimizer as an argument.\n",
        "2.   `loss.backward()`: Does all the backpropagation in one fell swoop (takes the derivative of the loss). We call `.backward()` on the loss tensor, which has the effect of taking the partial derivative of the loss with respect to the model parameters. For a model parameter (weight) `w`, dloss/dw will be stored in `w.grad` after `loss.backward()`.\n",
        "3. `optimizer.step()`: Based on the previously specified optimizer algorithm and learning rate, updates the parameters in the direction of the gradient. This represents one iteration of the weight update rule.\n",
        "\n",
        "\n"
      ]
    },
    {
      "cell_type": "code",
      "metadata": {
        "id": "IOOcYAkcNAgu",
        "colab": {
          "base_uri": "https://localhost:8080/",
          "height": 234
        },
        "outputId": "0eeb9a0d-65f1-4c7a-c00b-1d87a056891c"
      },
      "source": [
        "num_epochs = 2000\n",
        "for epoch in range(num_epochs):\n",
        "\n",
        "    # Forward pass: compute predicted y by passing x to the model.\n",
        "    y_pred = model(xx)\n",
        "\n",
        "    # Compute and print loss.\n",
        "    loss = loss_fn(y_pred, y)\n",
        "    if epoch % 100 == 99:\n",
        "        print(epoch, loss.item())\n",
        "\n",
        "    # Before the backward pass, zero all the gradients for the variables it will update\n",
        "    # (these are the learnable weights of the model). This is because by defaults, \n",
        "    # gradients from previous iterations won't be overwritten. \n",
        "    optimizer.zero_grad()\n",
        "\n",
        "    # Backward pass: compute gradient of the loss with respect to model parameters\n",
        "    loss.backward()\n",
        "    # After taking the backward pass, you can see the computed gradient for each parameter\n",
        "    if epoch % 100 == 99:\n",
        "      # The model implicitly stores the parameters, as shown below:\n",
        "      for i, param in enumerate(model.parameters()):\n",
        "        # param.grad refers to d_loss/d_parameter\n",
        "        print('parameter', i, 'gradient', param.grad)\n",
        "\n",
        "    # Calling the step function on an Optimizer makes an update to its parameters\n",
        "    optimizer.step()\n",
        "\n",
        "linear_layer = model[0]\n",
        "print(f'Result: y = {linear_layer.bias.item()} + {linear_layer.weight[:, 0].item()} x + {linear_layer.weight[:, 1].item()} x^2 + {linear_layer.weight[:, 2].item()} x^3')"
      ],
      "execution_count": 3,
      "outputs": [
        {
          "output_type": "error",
          "ename": "NameError",
          "evalue": "ignored",
          "traceback": [
            "\u001b[0;31m---------------------------------------------------------------------------\u001b[0m",
            "\u001b[0;31mNameError\u001b[0m                                 Traceback (most recent call last)",
            "\u001b[0;32m<ipython-input-3-3f9121decb63>\u001b[0m in \u001b[0;36m<module>\u001b[0;34m()\u001b[0m\n\u001b[1;32m      3\u001b[0m \u001b[0;34m\u001b[0m\u001b[0m\n\u001b[1;32m      4\u001b[0m     \u001b[0;31m# Forward pass: compute predicted y by passing x to the model.\u001b[0m\u001b[0;34m\u001b[0m\u001b[0;34m\u001b[0m\u001b[0;34m\u001b[0m\u001b[0m\n\u001b[0;32m----> 5\u001b[0;31m     \u001b[0my_pred\u001b[0m \u001b[0;34m=\u001b[0m \u001b[0mmodel\u001b[0m\u001b[0;34m(\u001b[0m\u001b[0mxx\u001b[0m\u001b[0;34m)\u001b[0m\u001b[0;34m\u001b[0m\u001b[0;34m\u001b[0m\u001b[0m\n\u001b[0m\u001b[1;32m      6\u001b[0m \u001b[0;34m\u001b[0m\u001b[0m\n\u001b[1;32m      7\u001b[0m     \u001b[0;31m# Compute and print loss.\u001b[0m\u001b[0;34m\u001b[0m\u001b[0;34m\u001b[0m\u001b[0;34m\u001b[0m\u001b[0m\n",
            "\u001b[0;31mNameError\u001b[0m: name 'model' is not defined"
          ]
        }
      ]
    },
    {
      "cell_type": "markdown",
      "metadata": {
        "id": "Z3uuSWYTSLvz"
      },
      "source": [
        "# **Problem 3, Part 1: PyTorch Concept Questions**\n",
        "\n",
        "*Write up your answers to these problems in your PDF submission.  Any work included in your Colab notebook will not be graded.*\n",
        "\n",
        "These questions are intended to be a straightforward check on some fundamental PyTorch concepts. You are encouraged to use the PyTorch documentation and any other online resources to answer these questions.  Please write no more than 3 sentences to answer each of the below questions.\n",
        "\n",
        "# Problem 3.1\n",
        "Where are gradients stored in PyTorch and how can they be accessed?\n",
        "# Problem 3.2\n",
        "In the model defined in [Step 2](#step2) in the tutorial section, how many weights does the model have, and which layer do they come from?\n",
        "# Problem 3.3\n",
        "Conceptually, what is a fully-connected layer in a neural network, and how is it represented in PyTorch?\n"
      ]
    },
    {
      "cell_type": "markdown",
      "metadata": {
        "id": "9jt4jB6bKNcH"
      },
      "source": [
        "# **Problem 3, Part 2: Training a Neural Network on CIFAR-10**"
      ]
    },
    {
      "cell_type": "markdown",
      "metadata": {
        "id": "lOftgxoIsiZl"
      },
      "source": [
        "In this part, you will train two neural networks to perform multi-class classifications on the [CIFAR-10 dataset](https://www.cs.toronto.edu/~kriz/cifar.html). This dataset consists of 32x32 images belonging to 10 classes. In particular:\n",
        "\n",
        "\n",
        "\n",
        "# Problem 3.4\n",
        "**Initialize:** Complete the Part2NeuralNetwork class with 3 fully connected (linear) layers using ReLU activation functions, and with the hidden layers having 1000 nodes each.\n",
        "\n",
        "Here, we ask you to define a model class which inherits from `nn.Module` rather than using `nn.Sequential` as we saw before in [Step 2](#step2). This is done by initializing weights in `__init__()` and manually implementing the forward pass in `forward()`. Feel free to reference documentation.\n",
        "\n",
        "Please copy and paste your neural network class into your PDF writeup.  We recommend using a LaTeX library such as [listings](https://ctan.org/pkg/listings?lang=en) to ensure your code renders correctly.\n",
        "\n",
        "*Include in your submission: Your neural network class code.*\n",
        "\n",
        "# Problem 3.5\n",
        "\n",
        "**Train:** Complete the training code for the model. Use [cross-entropy loss](https://pytorch.org/docs/stable/generated/torch.nn.CrossEntropyLoss.html) and an optimizer of your choice.\n",
        "\n",
        "Train your model for 10 epochs. Every epoch, log the train and test set loss.  Create a plot that displays both the model's train and the test set loss across epochs.\n",
        "\n",
        "*Include in your submission: 1 plot which has both the train and test loss vs. number of epochs.*\n",
        "\n",
        "# Problem 3.6\n",
        "\n",
        "**Evaluate:** To evaluate your model, compute the following metrics on the train and test set, including them in your write-up.  For each of the following metrics, use the model's \"hard assignment\" of labels, i.e. your model's predictions should assign each data point to only 1 class:\n",
        "\n",
        "* The model's classification accuracy\n",
        "* The model's [precision and recall](https://en.wikipedia.org/wiki/Precision_and_recall) for each of the 10 classes\n",
        "\n",
        "What kinds of errors do you believe that the trained model is making?  Use evidence (such as the above metrics, example misclassified images, or any other metrics of your choice) to support your claims.\n",
        "\n",
        "*Include in your submission: train/test accuracy, train/test precision/recall for 10 classes, and evidence to support your hypothesis about the model's errors.*\n",
        "\n",
        "# Problem 3.7\n",
        "\n",
        "**Explore:** Create a new neural network with at least 1 architectural modification.   Some things you can explore are adding or removing layers, changing the number of nodes at each layer, or experimenting with convolutional and pooling layers (see Appendix). The only requirement is that your model attain at least 50% test set accuracy after training for 10 epochs.  This part of the problem is intentionally open-ended, and we encourage you to explore!\n",
        "\n",
        "For your new neural network, include a plot of train and test set loss in your writeup.  Calculate your model's train/test accuracy and precision/recall for the 10 classes.\n",
        "\n",
        "In your writeup, copy and paste your modified neural network class and describe the architectural changes you made.  Write at least 1 sentence about why you hypothesize your new neural network performed better or performed worse than the network in Part 3.4.\n",
        "\n",
        "*Include in your submission: Your neural network class code, 1 plot of train/test loss, metrics from Part 3.6 for this new neural net, and explanation of performance.*\n"
      ]
    },
    {
      "cell_type": "code",
      "metadata": {
        "collapsed": true,
        "id": "ND3B7K0TKPyJ",
        "colab": {
          "base_uri": "https://localhost:8080/",
          "height": 121,
          "referenced_widgets": [
            "eb6d868cfea4427aa8abe55d4c7eba23",
            "e584b2ef9d0d46a6becb350901d6b660",
            "c86df50e15604515957fb2e14cafeb0b",
            "43c8b87ffbfb4231855696508a2f364a",
            "891acc624d844afb8366e111cbe4b057",
            "76140250c3b04f449f76d19b5c143636",
            "627815abe4da4e878f2450d6729f3c8d",
            "e39792d6e15342ff9f07ac9bdbc6d03c"
          ]
        },
        "outputId": "e6ded738-518d-4acd-cbe2-1f0c368a5fa6"
      },
      "source": [
        "## Download CIFAR-10 dataset \n",
        "\n",
        "import torch\n",
        "import torchvision\n",
        "import torchvision.transforms as transforms\n",
        "\n",
        "transform = transforms.Compose(\n",
        "    [transforms.ToTensor(),\n",
        "     transforms.Normalize((0.5, 0.5, 0.5), (0.5, 0.5, 0.5))])\n",
        "\n",
        "trainset = torchvision.datasets.CIFAR10(root='./part_2_data', train=True,\n",
        "                                        download=True, transform=transform)\n",
        "trainloader = torch.utils.data.DataLoader(trainset, batch_size=32,\n",
        "                                          shuffle=True, num_workers=2)\n",
        "\n",
        "testset = torchvision.datasets.CIFAR10(root='./part_2_data', train=False,\n",
        "                                       download=True, transform=transform)\n",
        "testloader = torch.utils.data.DataLoader(testset, batch_size=32,\n",
        "                                         shuffle=False, num_workers=2)\n",
        "\n",
        "classes = ('plane', 'car', 'bird', 'cat',\n",
        "           'deer', 'dog', 'frog', 'horse', 'ship', 'truck')"
      ],
      "execution_count": 3,
      "outputs": [
        {
          "output_type": "stream",
          "text": [
            "Downloading https://www.cs.toronto.edu/~kriz/cifar-10-python.tar.gz to ./part_2_data/cifar-10-python.tar.gz\n"
          ],
          "name": "stdout"
        },
        {
          "output_type": "display_data",
          "data": {
            "application/vnd.jupyter.widget-view+json": {
              "model_id": "eb6d868cfea4427aa8abe55d4c7eba23",
              "version_minor": 0,
              "version_major": 2
            },
            "text/plain": [
              "HBox(children=(FloatProgress(value=1.0, bar_style='info', max=1.0), HTML(value='')))"
            ]
          },
          "metadata": {
            "tags": []
          }
        },
        {
          "output_type": "stream",
          "text": [
            "Extracting ./part_2_data/cifar-10-python.tar.gz to ./part_2_data\n",
            "Files already downloaded and verified\n"
          ],
          "name": "stdout"
        }
      ]
    },
    {
      "cell_type": "code",
      "metadata": {
        "collapsed": true,
        "id": "c-t27AQYtPHc",
        "colab": {
          "base_uri": "https://localhost:8080/"
        },
        "outputId": "34f0630f-3b51-4faa-fc3f-bf9ebebbd92c"
      },
      "source": [
        "# TODO - Complete Part2NeuralNetwork. Include class into your PDF submission!\n",
        "\n",
        "import torch.nn as nn\n",
        "import torch.nn.functional as F\n",
        "import torch.optim as optim\n",
        "import matplotlib.pyplot as plt\n",
        "from sklearn.metrics import classification_report\n",
        "\n",
        "device = torch.device('cuda:0' if torch.cuda.is_available() else 'cpu')\n",
        "\n",
        "class Part2NeuralNetwork(nn.Module):\n",
        "    def __init__(self):\n",
        "        super(Part2NeuralNetwork, self).__init__()\n",
        "        ## TODO: Define your neural network layers here!\n",
        "        ## Importantly, any modules which initialize weights should be initialized\n",
        "        ## as member variables here. \n",
        "        ## Note: Keep track of the shape of your input tensors in the training\n",
        "        ## and test sets, because it affects how you define your layers!\n",
        "        ## You might find this resource helpful:\n",
        "        ## https://towardsdatascience.com/pytorch-layer-dimensions-what-sizes-should-they-be-and-why-4265a41e01fd\n",
        "        \n",
        "        self.lin1 = nn.Linear(3 * 32 * 32, 1000)\n",
        "        self.lin2 = nn.Linear(1000, 1000)\n",
        "        self.lin3 = nn.Linear(1000, 10)\n",
        "        self.flatten = nn.Flatten()\n",
        "\n",
        "    def forward(self, x):\n",
        "        ## TODO: This is where you should apply the layers defined in the __init__\n",
        "        ## method and the ReLU activation functions to the input x.\n",
        "        x = F.relu(self.lin1(x))\n",
        "        x = F.relu(self.lin2(x))\n",
        "        x = F.relu(self.lin3(x))\n",
        "        x = F.relu(self.flatten(x))\n",
        "        return x\n",
        "\n",
        "class Part2ModifiedNeuralNetwork(nn.Module):\n",
        "    def __init__(self):\n",
        "        super(Part2ModifiedNeuralNetwork, self).__init__()\n",
        "        self.lin1 = nn.Linear(3 * 32 * 32, 10000)\n",
        "        self.lin2 = nn.Linear(10000, 10000)\n",
        "        self.lin3 = nn.Linear(10000, 10)\n",
        "        self.flatten = nn.Flatten()\n",
        "\n",
        "    def forward(self, x):\n",
        "        x = F.relu(self.lin1(x))\n",
        "        x = F.relu(self.lin2(x))\n",
        "        x = F.relu(self.lin3(x))\n",
        "        x = F.relu(self.flatten(x))\n",
        "        return x\n",
        "\n",
        "# Display model architecture\n",
        "model = Part2NeuralNetwork()\n",
        "model.to(device)"
      ],
      "execution_count": 7,
      "outputs": [
        {
          "output_type": "execute_result",
          "data": {
            "text/plain": [
              "Part2NeuralNetwork(\n",
              "  (lin1): Linear(in_features=3072, out_features=1000, bias=True)\n",
              "  (lin2): Linear(in_features=1000, out_features=1000, bias=True)\n",
              "  (lin3): Linear(in_features=1000, out_features=10, bias=True)\n",
              "  (flatten): Flatten(start_dim=1, end_dim=-1)\n",
              ")"
            ]
          },
          "metadata": {
            "tags": []
          },
          "execution_count": 7
        }
      ]
    },
    {
      "cell_type": "code",
      "metadata": {
        "collapsed": true,
        "id": "zfaC1lDuek_i",
        "colab": {
          "base_uri": "https://localhost:8080/",
          "height": 658
        },
        "outputId": "a4116275-1b6c-4fce-9dc2-254078843315"
      },
      "source": [
        "# TODO - Complete NN training\n",
        "\n",
        "# Reinitialize to ensure we are training a new model\n",
        "model = Part2NeuralNetwork()\n",
        "# model = Part2ModifiedNeuralNetwork()\n",
        "model.to(device)\n",
        "\n",
        "loss_function = nn.CrossEntropyLoss()\n",
        "optimizer = optim.SGD(model.parameters(), lr=0.001, momentum=0.9)\n",
        "\n",
        "train_losses = []\n",
        "test_losses = []\n",
        "n_epochs = 10\n",
        "\n",
        "for epoch in range(n_epochs):\n",
        "    running_train_loss = 0.0\n",
        "    model.train(True)\n",
        "    for i, data in enumerate(trainloader, 0):\n",
        "        # get inputs; data is a list of [inputs, labels]\n",
        "        xs, ys = data\n",
        "        xs = xs.to(device)\n",
        "        ys = ys.to(device)\n",
        "\n",
        "        # optimize model parameters\n",
        "        xs = xs.view(xs.shape[0], -1)\n",
        "        y_preds = model(xs) # get y predictions from model\n",
        "        loss = loss_function(y_preds, ys) # calculate loss\n",
        "        optimizer.zero_grad() # zeros out gradients\n",
        "        loss.backward() # calculates gradient of loss wrt params\n",
        "        optimizer.step() # updates params 1 step\n",
        "\n",
        "        running_train_loss += loss.item()\n",
        "    train_losses.append(running_train_loss / 50000)\n",
        "    print('[Epoch %d] average train loss: %.3f' % (epoch + 1, running_train_loss / 50000))\n",
        "    \n",
        "    # calculate test loss in similar fashion\n",
        "    model.train(False)\n",
        "    running_test_loss = 0.0\n",
        "    for i, data in enumerate(testloader, 0):\n",
        "        # get test inputs\n",
        "        xs, ys = data\n",
        "        xs = xs.to(device)\n",
        "        ys = ys.to(device)\n",
        "\n",
        "        # get loss\n",
        "        xs = xs.view(xs.shape[0], -1)\n",
        "        y_preds = model(xs) # get y predictions from model\n",
        "        loss = loss_function(y_preds, ys) # calculate loss\n",
        "        running_test_loss += loss.item()\n",
        "    test_losses.append(running_test_loss / 10000)\n",
        "    print('[Epoch %d] average test loss: %.3f' % (epoch + 1, running_test_loss / 10000))\n",
        "\n",
        "print('Finished Training')\n",
        "\n",
        "# plot average losses\n",
        "plt.figure()\n",
        "plt.title('Losses')\n",
        "plt.xlabel('Epoch')\n",
        "plt.ylabel('Average Loss')\n",
        "epochs = range(1, n_epochs + 1)\n",
        "plt.plot(epochs, train_losses)\n",
        "plt.plot(epochs, test_losses)\n",
        "plt.legend([\"Training Loss\", \"Test Loss\"])\n",
        "plt.savefig('losses.png')\n",
        "plt.show()"
      ],
      "execution_count": 12,
      "outputs": [
        {
          "output_type": "stream",
          "text": [
            "[Epoch 1] average train loss: 0.056\n",
            "[Epoch 1] average test loss: 0.050\n",
            "[Epoch 2] average train loss: 0.048\n",
            "[Epoch 2] average test loss: 0.047\n",
            "[Epoch 3] average train loss: 0.044\n",
            "[Epoch 3] average test loss: 0.044\n",
            "[Epoch 4] average train loss: 0.041\n",
            "[Epoch 4] average test loss: 0.043\n",
            "[Epoch 5] average train loss: 0.038\n",
            "[Epoch 5] average test loss: 0.041\n",
            "[Epoch 6] average train loss: 0.036\n",
            "[Epoch 6] average test loss: 0.041\n",
            "[Epoch 7] average train loss: 0.033\n",
            "[Epoch 7] average test loss: 0.041\n",
            "[Epoch 8] average train loss: 0.031\n",
            "[Epoch 8] average test loss: 0.041\n",
            "[Epoch 9] average train loss: 0.029\n",
            "[Epoch 9] average test loss: 0.041\n",
            "[Epoch 10] average train loss: 0.026\n",
            "[Epoch 10] average test loss: 0.041\n",
            "Finished Training\n"
          ],
          "name": "stdout"
        },
        {
          "output_type": "display_data",
          "data": {
            "image/png": "[encoded data removed]",
            "text/plain": [
              "<Figure size 432x288 with 1 Axes>"
            ]
          },
          "metadata": {
            "tags": [],
            "needs_background": "light"
          }
        }
      ]
    },
    {
      "cell_type": "code",
      "metadata": {
        "collapsed": true,
        "id": "6eM9cwr8Jrfc",
        "colab": {
          "base_uri": "https://localhost:8080/"
        },
        "outputId": "a86352a5-eca7-40f3-e059-fbf1cf2cd715"
      },
      "source": [
        "# Use this function to compute your model accuracy!\n",
        "# Note that the dataloader argument can take trainloader or testloader\n",
        "def compute_accuracy(model, dataloader):\n",
        "    correct = 0\n",
        "    total = 0\n",
        "    model.train(False)\n",
        "    all_ys, all_pred = [], []\n",
        "    with torch.no_grad():\n",
        "        for data in dataloader:\n",
        "            xs, ys = data\n",
        "            xs = xs.to(device)\n",
        "            ys = ys.to(device)\n",
        "            xs = xs.view(xs.shape[0], -1)\n",
        "            y_preds = model(xs)\n",
        "            _, predicted = torch.max(y_preds.data, 1)\n",
        "            all_ys += ys.tolist()\n",
        "            all_pred += predicted.tolist()\n",
        "            total += ys.size(0)\n",
        "            correct += (predicted == ys).sum().item()\n",
        "\n",
        "    print('Model accuracy: %d%%' % (100 * correct / total))\n",
        "    print(classification_report(all_ys, all_pred, target_names=classes))\n",
        "\n",
        "compute_accuracy(model, trainloader)\n",
        "compute_accuracy(model, testloader)"
      ],
      "execution_count": 13,
      "outputs": [
        {
          "output_type": "stream",
          "text": [
            "Model accuracy: 76%\n",
            "              precision    recall  f1-score   support\n",
            "\n",
            "       plane       0.75      0.79      0.77      5000\n",
            "         car       0.91      0.86      0.89      5000\n",
            "        bird       0.75      0.57      0.65      5000\n",
            "         cat       0.59      0.74      0.65      5000\n",
            "        deer       0.71      0.69      0.70      5000\n",
            "         dog       0.78      0.63      0.70      5000\n",
            "        frog       0.70      0.86      0.77      5000\n",
            "       horse       0.86      0.85      0.86      5000\n",
            "        ship       0.83      0.85      0.84      5000\n",
            "       truck       0.87      0.84      0.85      5000\n",
            "\n",
            "    accuracy                           0.77     50000\n",
            "   macro avg       0.78      0.77      0.77     50000\n",
            "weighted avg       0.78      0.77      0.77     50000\n",
            "\n",
            "Model accuracy: 55%\n",
            "              precision    recall  f1-score   support\n",
            "\n",
            "       plane       0.60      0.66      0.63      1000\n",
            "         car       0.71      0.61      0.66      1000\n",
            "        bird       0.52      0.38      0.44      1000\n",
            "         cat       0.35      0.48      0.41      1000\n",
            "        deer       0.48      0.42      0.45      1000\n",
            "         dog       0.50      0.39      0.43      1000\n",
            "        frog       0.53      0.69      0.60      1000\n",
            "       horse       0.64      0.64      0.64      1000\n",
            "        ship       0.66      0.70      0.68      1000\n",
            "       truck       0.62      0.58      0.60      1000\n",
            "\n",
            "    accuracy                           0.55     10000\n",
            "   macro avg       0.56      0.55      0.55     10000\n",
            "weighted avg       0.56      0.55      0.55     10000\n",
            "\n"
          ],
          "name": "stdout"
        }
      ]
    },
    {
      "cell_type": "markdown",
      "metadata": {
        "id": "VHkX9Z6q27-4"
      },
      "source": [
        "<a name=\"Appendix\"></a>\n",
        "# Appendix: Computation Graphs"
      ]
    },
    {
      "cell_type": "markdown",
      "metadata": {
        "id": "aaUHTpkpUOHn"
      },
      "source": [
        "A *computation graph* is an abstract graphical representation of a mathematical expression involving variables. Each variable is represented as an edge, and each operation as a node; the graph is directed and acyclic. For instance, the expression $(x + y)^2 + x$ can be represented as:\n",
        "\n",
        "![Computation Graph](https://github.com/harvard-ml-courses/cs181-s21-homeworks/blob/main/hw3/T3_P3_computation_graph.jpg?raw=true)\n",
        "\n",
        "Expressions can be converted into graphs and vice versa. Computation graphs are useful representations in the context of neural networks, because\n",
        "1. They encode all the necessary information for the computation of gradients into discrete units through repeated application of the chain rule, and\n",
        "2. Graphs are easy to implement with code (conceptually, one can imagine storing pointers between nodes)\n",
        "\n",
        "The process in step #1 is known as *automatic differentiation*.\n",
        "\n",
        "If you would like to walk through a computation graph on a small neural network, we recommend [this resource](https://blog.paperspace.com/pytorch-101-understanding-graphs-and-automatic-differentiation/)."
      ]
    },
    {
      "cell_type": "markdown",
      "metadata": {
        "id": "ztTJRpX09z6J"
      },
      "source": [
        "# Appendix: Convolutional Neural Networks"
      ]
    },
    {
      "cell_type": "markdown",
      "metadata": {
        "id": "9fNNaZso91zx"
      },
      "source": [
        "A convolutional neural network (CNN) is a special type of neural network that has \"convolution layers\". CNNs are able to model spatial and temporal dependencies in ordered sequences of input data.\n",
        "\n",
        "The convolution layer of a CNN applies a filter (sometimes referred to as a \"kernel\") to an input to produce an output. \n",
        "\n",
        "Assume without loss of generality that we have two-dimensional input data $x : m \\times n$.  For example, $x$ may be the color of each pixel of a grayscale $m$ by $n$ image.\n",
        "\n",
        "During the forward pass, we slide (or \"convolve\") the filter across the input data.  In most CNNs, the filter is a function of \"regions\" of the data, where individual components of the input are grouped together.  For example, a convolutional filter applied to image data may take into account $3 x 3$ groups of pixels to model dependencies in between adjacent pixels:\n",
        "\n",
        "![CNN sliding window](https://courses.edx.org/assets/courseware/v1/7396a332c596cb606eae215d96301334/asset-v1:MITx+6.871Jx+2T2021+type@asset+block/cnn_sliding_window.gif)\n",
        "\n",
        "This GIF image shows a sliding convolutional 3 x 3 filter, being applied to 3 x 3 segments of a 4 x 4 dataset.\n",
        "\n",
        "source: https://towardsdatascience.com/intuitively-understanding-convolutions-for-deep-learning-1f6f42faee1\n",
        "\n",
        "Another example of a 1-dimensional convolution filter is illustrated by the below GIF:\n",
        "\n",
        "![Convolution operation for a simple (1 x 3) filter](https://studio.edx.org/assets/courseware/v1/20da14e015eac1863451dafe3d456e59/asset-v1:MITx+6.871Jx+2T2021+type@asset+block/cnn.gif)\n",
        "\n",
        "This animation is described below.\n",
        "\n",
        "In this example, the filter $[2, 3, 1]$ is applied as an inner product with the input vector $x = [x_1, x_2, ..., x_{10}]: 1 \\times 10$ which contains annotations of a patient EKG.  Notice here that the filter is applied to 3 successive time-steps of the input vector: the output $y_t$ at time $t$ is equal to $[2, 3, 1] \\cdot [x_t, x_{t + 1}, t_{t + 2}]$.  Therefore the output $y_t$ contains information not only about a single EKG annotation $x_t$, but also about nearby EKG annotations $x_{t + 1}$ and $x_{t + 2}$.\n",
        "\n",
        "We strongly recommend [reading this article](https://adventuresinmachinelearning.com/convolutional-neural-networks-tutorial-in-pytorch/) which walks through how to create a CNN using conv and pooling layers in PyTorch.\n",
        "\n",
        "If you are interested, you can also watch this [MIT lecture](https://www.youtube.com/watch?v=iaSUYvmCekI) on CNNs."
      ]
    }
  ]
}